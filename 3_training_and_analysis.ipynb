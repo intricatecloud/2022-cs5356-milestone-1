{
  "cells": [
    {
      "cell_type": "markdown",
      "metadata": {
        "id": "view-in-github",
        "colab_type": "text"
      },
      "source": [
        "<a href=\"https://colab.research.google.com/github/scw89/2022-cs5356-milestone-1/blob/main/3_training_and_analysis.ipynb\" target=\"_parent\"><img src=\"https://colab.research.google.com/assets/colab-badge.svg\" alt=\"Open In Colab\"/></a>"
      ]
    },
    {
      "cell_type": "markdown",
      "metadata": {
        "id": "z2nGDz0JliKU"
      },
      "source": [
        "# **3. Training and Testing**\n",
        "Please start early! Section 3.6 Training may take one to two hours to run. "
      ]
    },
    {
      "cell_type": "markdown",
      "metadata": {
        "id": "c5U9gkiTnC4s"
      },
      "source": [
        "## 3.0 Setup GDrive and Git"
      ]
    },
    {
      "cell_type": "code",
      "source": [
        "# Mount google drive\n",
        "from google.colab import drive\n",
        "drive.mount('/content/gdrive') "
      ],
      "metadata": {
        "id": "WwcJax1zU04M",
        "colab": {
          "base_uri": "https://localhost:8080/"
        },
        "outputId": "2272dfe2-b439-4996-fcfc-5b767f0447a7"
      },
      "execution_count": 1,
      "outputs": [
        {
          "output_type": "stream",
          "name": "stdout",
          "text": [
            "Mounted at /content/gdrive\n"
          ]
        }
      ]
    },
    {
      "cell_type": "code",
      "source": [
        "# Make sure your token is stored in a txt file at the location below.\n",
        "# This way there is no risk that you will push it to your repo\n",
        "# Never share your token with anyone, it is basically your github password!\n",
        "with open('/content/gdrive/MyDrive/ece5545/token.txt') as f:\n",
        "    token = f.readline().strip()\n",
        "# Use another file to store your github username    \n",
        "with open('/content/gdrive/MyDrive/ece5545/git_username.txt') as f:\n",
        "    handle = f.readline().strip()"
      ],
      "metadata": {
        "id": "NQklidVMU0-t"
      },
      "execution_count": 2,
      "outputs": []
    },
    {
      "cell_type": "code",
      "source": [
        "# Clone your github repo\n",
        "YOUR_TOKEN = token\n",
        "YOUR_HANDLE = handle\n",
        "BRANCH = \"main\"\n",
        "\n",
        "%mkdir /content/gdrive/MyDrive/ece5545\n",
        "%cd /content/gdrive/MyDrive/ece5545\n",
        "!git clone https://{YOUR_TOKEN}@github.com/ML-HW-SYS/a2-{YOUR_HANDLE}.git\n",
        "%cd /content/gdrive/MyDrive/ece5545/a2-{YOUR_HANDLE}\n",
        "!git checkout {BRANCH}\n",
        "!git pull\n",
        "%cd /content/gdrive/MyDrive/ece5545\n",
        "\n",
        "PROJECT_ROOT = f\"/content/gdrive/MyDrive/ece5545/a2-{YOUR_HANDLE}\""
      ],
      "metadata": {
        "id": "7bdUCGFEU1Es",
        "colab": {
          "base_uri": "https://localhost:8080/"
        },
        "outputId": "35bcaa33-6026-4624-e521-e62f7fb7393c"
      },
      "execution_count": 3,
      "outputs": [
        {
          "output_type": "stream",
          "name": "stdout",
          "text": [
            "mkdir: cannot create directory ‘/content/gdrive/MyDrive/ece5545’: File exists\n",
            "/content/gdrive/MyDrive/ece5545\n",
            "fatal: destination path 'a2-scw89' already exists and is not an empty directory.\n",
            "/content/gdrive/MyDrive/ece5545/a2-scw89\n",
            "M\t2_size_estimator_and_profiler.ipynb\n",
            "M\t3_training_and_analysis.ipynb\n",
            "M\tsrc/size_estimate.py\n",
            "Already on 'main'\n",
            "Your branch is up to date with 'origin/main'.\n",
            "Already up to date.\n",
            "/content/gdrive/MyDrive/ece5545\n"
          ]
        }
      ]
    },
    {
      "cell_type": "code",
      "source": [
        "# This extension reloads all imports before running each cell\n",
        "%load_ext autoreload\n",
        "%autoreload 2"
      ],
      "metadata": {
        "id": "xHXYdHkzU1MX"
      },
      "execution_count": 4,
      "outputs": []
    },
    {
      "cell_type": "markdown",
      "metadata": {
        "id": "t6zMfxIflRLB"
      },
      "source": [
        "### GPU\n",
        "\n",
        "Ensure you are running the GPU runtime type:\n",
        "1.   Click \"Runtime\" on top banner\n",
        "2.   Select \"Change runtime type\"\n",
        "3.   Under \"Hardware accelarator\" select \"GPU\" and save\n",
        "\n"
      ]
    },
    {
      "cell_type": "markdown",
      "metadata": {
        "id": "be4rOan-nHrF"
      },
      "source": [
        "### Import code dependencies"
      ]
    },
    {
      "cell_type": "code",
      "execution_count": 5,
      "metadata": {
        "id": "aDDr3IrkliKY",
        "colab": {
          "base_uri": "https://localhost:8080/"
        },
        "outputId": "a02f0a97-6bac-402b-a4f4-9d15c62ef4a6"
      },
      "outputs": [
        {
          "output_type": "stream",
          "name": "stdout",
          "text": [
            "Model folders are created, \n",
            "PyTorch models will be saved in /content/gdrive/MyDrive/ece5545/models/torch_models, \n",
            "ONNX models will be saved in /content/gdrive/MyDrive/ece5545/models/onnx_models, \n",
            "TensorFlow Saved Models will be saved in /content/gdrive/MyDrive/ece5545/models/tf_models, \n",
            "TensorFlow Lite models will be saved in /content/gdrive/MyDrive/ece5545/models/tflite_models, \n",
            "TensorFlow Lite Micro models will be saved in /content/gdrive/MyDrive/ece5545/models/micro_models.\n"
          ]
        }
      ],
      "source": [
        "import os\n",
        "import sys\n",
        "\n",
        "# Adding assignment 2 to the system path\n",
        "# -- make sure this matches your git directory\n",
        "sys.path.insert(0, PROJECT_ROOT)\n",
        "\n",
        "# Import libraries \n",
        "import torch\n",
        "import torch.nn as nn\n",
        "import torch.nn.functional as F\n",
        "import torch.optim as optim\n",
        "\n",
        "import matplotlib.pyplot as plt\n",
        "from tqdm.notebook import tqdm\n",
        "import numpy as np\n",
        "import copy\n",
        "\n",
        "# Import constants to use constants defined for training\n",
        "from src.constants import *\n",
        "# Import data_proc to use data processing functions\n",
        "import src.data_proc as data_proc\n",
        "\n",
        "random_seed = 0\n",
        "torch.manual_seed(random_seed)\n",
        "torch.cuda.manual_seed(random_seed)"
      ]
    },
    {
      "cell_type": "markdown",
      "metadata": {
        "id": "U7qaF1IEliKa"
      },
      "source": [
        "## 3.1 Download and Preprocess Data"
      ]
    },
    {
      "cell_type": "markdown",
      "metadata": {
        "id": "FLwsdGt_liKa"
      },
      "source": [
        "### Create audio processor\n",
        "This step is similar to what was done in part 2, so the files should already be downloaded in your Google Drive."
      ]
    },
    {
      "cell_type": "code",
      "execution_count": 6,
      "metadata": {
        "id": "Xdc42fZiliKa"
      },
      "outputs": [],
      "source": [
        "# Create audio_processor\n",
        "audio_processor = data_proc.AudioProcessor()"
      ]
    },
    {
      "cell_type": "markdown",
      "metadata": {
        "id": "e53768H0liKf"
      },
      "source": [
        "### Select device: cuda or cpu"
      ]
    },
    {
      "cell_type": "code",
      "execution_count": 7,
      "metadata": {
        "id": "UrpzLHRhliKf",
        "colab": {
          "base_uri": "https://localhost:8080/"
        },
        "outputId": "ac69c439-cde5-442d-f947-51a1e98bff41"
      },
      "outputs": [
        {
          "output_type": "stream",
          "name": "stdout",
          "text": [
            "Using cuda to run the training scrpit.\n"
          ]
        }
      ],
      "source": [
        "# Define device\n",
        "device = torch.device(\"cuda\" if torch.cuda.is_available() else \"cpu\")\n",
        "print(f'Using {device} to run the training scrpit.')"
      ]
    },
    {
      "cell_type": "markdown",
      "metadata": {
        "id": "ViruC2uOnY3u"
      },
      "source": [
        "## 3.2 Data Loader"
      ]
    },
    {
      "cell_type": "code",
      "execution_count": 8,
      "metadata": {
        "id": "3qYQMncTliKb",
        "colab": {
          "base_uri": "https://localhost:8080/"
        },
        "outputId": "00493e28-4ee9-4b40-8721-cfec47bb9887"
      },
      "outputs": [
        {
          "output_type": "stream",
          "name": "stdout",
          "text": [
            "Train size: 10556 Val size: 1333 Test size: 1368\n"
          ]
        }
      ],
      "source": [
        "# Define train, test, and validation set\n",
        "train_set = audio_processor.data_index['training']\n",
        "test_set = audio_processor.data_index['testing']\n",
        "valid_set = audio_processor.data_index['validation']\n",
        "\n",
        "# Define data loaders\n",
        "from src.loaders import make_data_loaders\n",
        "data_loaders = make_data_loaders(audio_processor, device)\n",
        "train_loader = data_loaders['training']\n",
        "test_loader = data_loaders['testing']\n",
        "valid_loader = data_loaders['validation']"
      ]
    },
    {
      "cell_type": "markdown",
      "metadata": {
        "id": "cBSyrbs6liKg"
      },
      "source": [
        "## 3.3 Define the Model"
      ]
    },
    {
      "cell_type": "code",
      "execution_count": 9,
      "metadata": {
        "id": "OERV-lIDliKi",
        "colab": {
          "base_uri": "https://localhost:8080/"
        },
        "outputId": "0e6bbde1-5cf1-4e2e-e54d-0bd3221eddef"
      },
      "outputs": [
        {
          "output_type": "execute_result",
          "data": {
            "text/plain": [
              "TinyConv(\n",
              "  (conv_reshape): Reshape(output_shape=(-1, 1, 49, 40))\n",
              "  (conv): Conv2d(1, 8, kernel_size=(10, 8), stride=(2, 2), padding=(5, 3))\n",
              "  (relu): ReLU()\n",
              "  (dropout): Dropout(p=0.5, inplace=False)\n",
              "  (fc_reshape): Reshape(output_shape=(-1, 4000))\n",
              "  (fc): Linear(in_features=4000, out_features=4, bias=True)\n",
              "  (softmax): Softmax(dim=1)\n",
              ")"
            ]
          },
          "metadata": {},
          "execution_count": 9
        }
      ],
      "source": [
        "from src.networks import TinyConv\n",
        "# Create a full precision (float32) TinyConv model\n",
        "model_fp32 = TinyConv(\n",
        "    model_settings=audio_processor.model_settings,\n",
        "    n_input=1,\n",
        "    n_output=audio_processor.num_labels\n",
        ")\n",
        "model_fp32"
      ]
    },
    {
      "cell_type": "markdown",
      "metadata": {
        "id": "0PeiCwmdliKk"
      },
      "source": [
        "## 3.4 Training"
      ]
    },
    {
      "cell_type": "code",
      "execution_count": 10,
      "metadata": {
        "id": "pTDNIHCqliKj"
      },
      "outputs": [],
      "source": [
        "from src.train_val_test_utils import train, test"
      ]
    },
    {
      "cell_type": "markdown",
      "metadata": {
        "id": "Fnk6TOA8rv7C"
      },
      "source": [
        "### Adjust parameters\n",
        "*   You can change *n_epoch* to use a different number training steps/epochs"
      ]
    },
    {
      "cell_type": "code",
      "execution_count": 24,
      "metadata": {
        "id": "4twj3n1tliKk",
        "colab": {
          "base_uri": "https://localhost:8080/"
        },
        "outputId": "80b542b0-e71f-4dca-af48-371e4fbc3137"
      },
      "outputs": [
        {
          "output_type": "stream",
          "name": "stdout",
          "text": [
            "# batches: 106 \n",
            "# epochs: 50 \n",
            "# total training steps: 5300\n"
          ]
        }
      ],
      "source": [
        "num_batches = len(train_loader)\n",
        "n_epoch = 50\n",
        "print(f'# batches: {num_batches} \\n# epochs: {n_epoch} \\n# total training steps: {num_batches * n_epoch}')"
      ]
    },
    {
      "cell_type": "markdown",
      "metadata": {
        "id": "Ps_AJaYKliKk"
      },
      "source": [
        "### Create optimizer for training\n",
        " Explore more at: \n",
        "[TORCH. OPTIM](https://pytorch.org/docs/stable/optim.html?highlight=torch%20optim%20lr_scheduler)"
      ]
    },
    {
      "cell_type": "code",
      "execution_count": 25,
      "metadata": {
        "id": "VqVXUQzYliKk",
        "colab": {
          "base_uri": "https://localhost:8080/"
        },
        "outputId": "4478b46c-78c6-4e4e-aaa0-61fafcbd03b5"
      },
      "outputs": [
        {
          "output_type": "stream",
          "name": "stdout",
          "text": [
            "{'state': {}, 'param_groups': [{'lr': 0.001, 'betas': (0.9, 0.999), 'eps': 1e-08, 'weight_decay': 0.0001, 'amsgrad': False, 'params': [0, 1, 2, 3]}]}\n"
          ]
        }
      ],
      "source": [
        "from src.train_val_test_utils import create_optimizer\n",
        "\n",
        "# Create optimizer\n",
        "optimizer_fp32 = create_optimizer(model=model_fp32, learning_rate=0.001)\n",
        "print(optimizer_fp32.state_dict())"
      ]
    },
    {
      "cell_type": "markdown",
      "metadata": {
        "id": "EX-iWv6Ash3R"
      },
      "source": [
        "### Train the model\n",
        "TensorBoard will allow you to visualize your results. The second code block, the training, will take a while to run."
      ]
    },
    {
      "cell_type": "code",
      "execution_count": 26,
      "metadata": {
        "id": "DGag-bchliKl",
        "colab": {
          "base_uri": "https://localhost:8080/",
          "height": 1000,
          "referenced_widgets": [
            "b358ba279ff44f1cbb70d8a7b8df1b5f",
            "c139d4920dec471fb7730376c161e625",
            "eaa355307c004f74ab7ef8225547d061",
            "90dafcfa923542aea39dccf9dedd9012",
            "9c3c7ee3a17c46479bf08a13c9bfd9a3",
            "3ac74da2ef844014893e153dc5238d65",
            "b07fabedbcd24078a2e0c033212800bd",
            "d70bb132c0d14194a815d13212a9b915",
            "d45d6844b06240d6914ec4abe6bababf",
            "9fa0931a11a84e1eb17fb7b94df4a30c",
            "49edc51c1a28445c8a1aec3a9e2dd507"
          ]
        },
        "outputId": "51418930-66db-4db5-f314-01ab71a60656"
      },
      "outputs": [
        {
          "output_type": "display_data",
          "data": {
            "application/vnd.jupyter.widget-view+json": {
              "model_id": "b358ba279ff44f1cbb70d8a7b8df1b5f",
              "version_minor": 0,
              "version_major": 2
            },
            "text/plain": [
              "  0%|          | 0/50 [00:00<?, ?it/s]"
            ]
          },
          "metadata": {}
        },
        {
          "output_type": "stream",
          "name": "stdout",
          "text": [
            "\n",
            "Val Acc Epoch 2 = 86.72%, Train loss = 0.429\n",
            "\n",
            "Val Acc Epoch 3 = 87.1%, Train loss = 0.418\n",
            "\n",
            "Val Acc Epoch 4 = 86.05%, Train loss = 0.413\n",
            "\n",
            "Val Acc Epoch 5 = 87.25%, Train loss = 0.412\n",
            "\n",
            "Val Acc Epoch 6 = 87.47%, Train loss = 0.397\n",
            "\n",
            "Val Acc Epoch 7 = 87.62%, Train loss = 0.403\n",
            "\n",
            "Val Acc Epoch 8 = 87.02%, Train loss = 0.399\n",
            "\n",
            "Val Acc Epoch 9 = 88.22%, Train loss = 0.386\n",
            "\n",
            "Val Acc Epoch 10 = 88.3%, Train loss = 0.396\n",
            "\n",
            "Val Acc Epoch 11 = 87.02%, Train loss = 0.381\n",
            "\n",
            "Val Acc Epoch 12 = 86.95%, Train loss = 0.383\n",
            "\n",
            "Val Acc Epoch 13 = 87.77%, Train loss = 0.39\n",
            "\n",
            "Val Acc Epoch 14 = 87.17%, Train loss = 0.382\n",
            "\n",
            "Val Acc Epoch 15 = 87.85%, Train loss = 0.373\n",
            "\n",
            "Val Acc Epoch 16 = 88.15%, Train loss = 0.377\n",
            "\n",
            "Val Acc Epoch 17 = 89.2%, Train loss = 0.368\n",
            "\n",
            "Val Acc Epoch 18 = 89.42%, Train loss = 0.376\n",
            "\n",
            "Val Acc Epoch 19 = 88.0%, Train loss = 0.366\n",
            "\n",
            "Val Acc Epoch 20 = 89.35%, Train loss = 0.366\n",
            "\n",
            "Val Acc Epoch 21 = 86.95%, Train loss = 0.369\n",
            "\n",
            "Val Acc Epoch 22 = 88.9%, Train loss = 0.367\n",
            "\n",
            "Val Acc Epoch 23 = 88.97%, Train loss = 0.357\n",
            "\n",
            "Val Acc Epoch 24 = 87.92%, Train loss = 0.361\n",
            "\n",
            "Val Acc Epoch 25 = 88.15%, Train loss = 0.353\n",
            "\n",
            "Val Acc Epoch 26 = 88.22%, Train loss = 0.364\n",
            "\n",
            "Val Acc Epoch 27 = 90.1%, Train loss = 0.355\n",
            "\n",
            "Val Acc Epoch 28 = 87.4%, Train loss = 0.354\n",
            "\n",
            "Val Acc Epoch 29 = 88.3%, Train loss = 0.358\n",
            "\n",
            "Val Acc Epoch 30 = 88.22%, Train loss = 0.35\n",
            "\n",
            "Val Acc Epoch 31 = 89.35%, Train loss = 0.342\n",
            "\n",
            "Val Acc Epoch 32 = 89.2%, Train loss = 0.356\n",
            "\n",
            "Val Acc Epoch 33 = 89.35%, Train loss = 0.35\n",
            "\n",
            "Val Acc Epoch 34 = 88.9%, Train loss = 0.337\n",
            "\n",
            "Val Acc Epoch 35 = 90.47%, Train loss = 0.348\n",
            "\n",
            "Val Acc Epoch 36 = 89.8%, Train loss = 0.337\n",
            "\n",
            "Val Acc Epoch 37 = 89.95%, Train loss = 0.344\n",
            "\n",
            "Val Acc Epoch 38 = 88.52%, Train loss = 0.341\n",
            "\n",
            "Val Acc Epoch 39 = 89.2%, Train loss = 0.336\n",
            "\n",
            "Val Acc Epoch 40 = 89.2%, Train loss = 0.329\n",
            "\n",
            "Val Acc Epoch 41 = 89.42%, Train loss = 0.329\n",
            "\n",
            "Val Acc Epoch 42 = 89.2%, Train loss = 0.331\n",
            "\n",
            "Val Acc Epoch 43 = 88.97%, Train loss = 0.338\n",
            "\n",
            "Val Acc Epoch 44 = 88.75%, Train loss = 0.331\n",
            "\n",
            "Val Acc Epoch 45 = 89.27%, Train loss = 0.317\n",
            "\n",
            "Val Acc Epoch 46 = 89.42%, Train loss = 0.332\n",
            "\n",
            "Val Acc Epoch 47 = 89.87%, Train loss = 0.337\n",
            "\n",
            "Val Acc Epoch 48 = 88.82%, Train loss = 0.325\n",
            "\n",
            "Val Acc Epoch 49 = 90.25%, Train loss = 0.339\n",
            "\n",
            "Val Acc Epoch 50 = 90.25%, Train loss = 0.328\n",
            "\n",
            "Test Acc = 91.3%\n"
          ]
        }
      ],
      "source": [
        "pbar_update = 1 / (len(train_loader) + len(test_loader) + len(valid_loader))\n",
        "TORCH_DIR = ''\n",
        "def run_training(model, data_loaders, n_epoch, optimizer,\n",
        "                 save_interval=1, resume=True, checkpoint_path=None):\n",
        "    test_loader = data_loaders['testing']\n",
        "    valid_loader = data_loaders['validation']\n",
        "    with tqdm(total=n_epoch) as pbar:\n",
        "      \n",
        "        completed_epoch = 1\n",
        "        if resume:\n",
        "            try:\n",
        "                #continue training with previous model if one exists\n",
        "                checkpoint = torch.load(checkpoint_path)\n",
        "                model.load_state_dict(checkpoint['model_state_dict'])\n",
        "                optimizer.load_state_dict(checkpoint['optimizer_state_dict'])\n",
        "                completed_epoch = checkpoint[\"epoch\"] + 1\n",
        "                model.eval()\n",
        "                pbar.update(completed_epoch)\n",
        "            except:\n",
        "                pass\n",
        "        last_valacc = 0\n",
        "        for epoch in range(completed_epoch, n_epoch + 1):\n",
        "            train_iters = len(data_loaders['training'])\n",
        "            \n",
        "            losses, valacc = train(model, data_loaders, optimizer, \n",
        "                      epoch, device)\n",
        "            \n",
        "            #checkpoint the model every epoch\n",
        "            if epoch % save_interval == 0 and valacc > last_valacc:\n",
        "                torch.save({\n",
        "                    'epoch': epoch,\n",
        "                    'model_state_dict': model.state_dict(),\n",
        "                    'optimizer_state_dict': optimizer.state_dict()\n",
        "                }, checkpoint_path)\n",
        "\n",
        "            last_valacc = valacc\n",
        "            # Update epoch pbar\n",
        "            pbar.update(1)\n",
        "        \n",
        "        testacc = test(test_loader, model, device, \n",
        "                     epoch=None, loader_type='Test')\n",
        "        print(f'Test Acc = {round(testacc,2)}%')\n",
        "\n",
        "\n",
        "# This is where your checkpoint file will be saved\n",
        "checkpoint_path = os.path.join(TORCH_DIR, \"fp32_checkpoint.pt\")\n",
        "\n",
        "model_fp32.to(device)\n",
        "run_training(\n",
        "    model=model_fp32, data_loaders=data_loaders, \n",
        "    n_epoch=n_epoch, optimizer=optimizer_fp32, \n",
        "    resume=True, checkpoint_path=checkpoint_path\n",
        ")"
      ]
    },
    {
      "cell_type": "markdown",
      "metadata": {
        "id": "Qg1WlG-rliKl"
      },
      "source": [
        "## 3.5 Testing"
      ]
    },
    {
      "cell_type": "markdown",
      "metadata": {
        "id": "oYgFvfYAliKm"
      },
      "source": [
        "### Calculating accuracy\n"
      ]
    },
    {
      "cell_type": "code",
      "execution_count": 27,
      "metadata": {
        "id": "9PtKvJH_liKm",
        "colab": {
          "base_uri": "https://localhost:8080/",
          "height": 776
        },
        "outputId": "6ccb7cca-ef89-424d-bc5a-c417ba848b56"
      },
      "outputs": [
        {
          "output_type": "stream",
          "name": "stdout",
          "text": [
            "Train size: 10556 Val size: 1333 Test size: 1368\n"
          ]
        },
        {
          "output_type": "display_data",
          "data": {
            "image/png": "[encoded data removed]",
            "text/plain": [
              "<Figure size 432x288 with 1 Axes>"
            ]
          },
          "metadata": {
            "needs_background": "light"
          }
        },
        {
          "output_type": "display_data",
          "data": {
            "image/png": "[encoded data removed]",
            "text/plain": [
              "<Figure size 432x288 with 1 Axes>"
            ]
          },
          "metadata": {
            "needs_background": "light"
          }
        },
        {
          "output_type": "display_data",
          "data": {
            "image/png": "[encoded data removed]",
            "text/plain": [
              "<Figure size 432x288 with 1 Axes>"
            ]
          },
          "metadata": {
            "needs_background": "light"
          }
        }
      ],
      "source": [
        "from src.train_val_test_utils import plot_acc\n",
        "\n",
        "test_time_data_loaders = make_data_loaders(\n",
        "    audio_processor, device, \n",
        "    test_batch_size=1, valid_batch_size=1,\n",
        "    num_workers=0\n",
        ")\n",
        "\n",
        "plot_acc(\n",
        "    test_time_data_loaders['validation'], model_fp32, audio_processor, device,\n",
        "    \"validation\", 'float32 TinyConv', \"float\")\n",
        "plot_acc(\n",
        "    test_time_data_loaders['training'], model_fp32, audio_processor, device,\n",
        "    \"training\", 'float32 TinyConv', \"float\")\n",
        "acc = plot_acc(\n",
        "    test_time_data_loaders['testing'], model_fp32, audio_processor, device,\n",
        "    'testing', 'float32 TinyConv', \"float\")"
      ]
    },
    {
      "cell_type": "markdown",
      "metadata": {
        "id": "_tMzxb-jliKm"
      },
      "source": [
        "## 3.6 Save the Trained Model"
      ]
    },
    {
      "cell_type": "code",
      "execution_count": 28,
      "metadata": {
        "id": "zqC6fEoUliKm"
      },
      "outputs": [],
      "source": [
        "def choose_name(model_name):\n",
        "    name = f\"{model_name}_\" + \"{index}\"\n",
        "    i = 0\n",
        "    while os.path.isfile(name.format(index=i)):\n",
        "        i += 1\n",
        "    name = name.format(index = i)\n",
        "    print(f\"The model's will be stored as: \\n {name}\")\n",
        "    return name\n",
        "\n",
        "def save_model(model, path):\n",
        "    torch.save(model.state_dict(), path)"
      ]
    },
    {
      "cell_type": "code",
      "execution_count": 29,
      "metadata": {
        "id": "VVKrP45aliKm",
        "colab": {
          "base_uri": "https://localhost:8080/",
          "height": 71
        },
        "outputId": "c0ec0321-30c6-4669-cb43-2e433c4c9040"
      },
      "outputs": [
        {
          "output_type": "stream",
          "name": "stdout",
          "text": [
            "The model's will be stored as: \n",
            " tinyconv_float32_init_seed0_90.72%_0\n"
          ]
        },
        {
          "output_type": "execute_result",
          "data": {
            "application/vnd.google.colaboratory.intrinsic+json": {
              "type": "string"
            },
            "text/plain": [
              "'tinyconv_float32_init_seed0_90.72%_0.pt'"
            ]
          },
          "metadata": {},
          "execution_count": 29
        }
      ],
      "source": [
        "# Choose a path\n",
        "# You can also define your own path\n",
        "model_name = f\"tinyconv_float32_init_seed{torch.initial_seed()}_{acc * 100:.2f}%\"\n",
        "file_name = choose_name(model_name)\n",
        "torch_path = os.path.join(TORCH_DIR, f'{file_name}.pt')\n",
        "torch_path"
      ]
    },
    {
      "cell_type": "code",
      "execution_count": 30,
      "metadata": {
        "id": "JHgqZ8yXliKn",
        "colab": {
          "base_uri": "https://localhost:8080/",
          "height": 35
        },
        "outputId": "3d3b7d94-c3fc-4824-9ea3-0c5a77f5e0e9"
      },
      "outputs": [
        {
          "output_type": "execute_result",
          "data": {
            "application/vnd.google.colaboratory.intrinsic+json": {
              "type": "string"
            },
            "text/plain": [
              "'Saved!'"
            ]
          },
          "metadata": {},
          "execution_count": 30
        }
      ],
      "source": [
        "# Save the trained pytorch model to torch_path\n",
        "save_model(model_fp32, torch_path)\n",
        "'Saved!'"
      ]
    },
    {
      "cell_type": "code",
      "execution_count": null,
      "metadata": {
        "id": "CnJHbwj0UAi5"
      },
      "outputs": [],
      "source": [
        "'You can now find your model in %s under the folder icon to the left.' % torch_path"
      ]
    },
    {
      "cell_type": "code",
      "source": [
        ""
      ],
      "metadata": {
        "id": "kauQRx68xaeo"
      },
      "execution_count": null,
      "outputs": []
    }
  ],
  "metadata": {
    "colab": {
      "collapsed_sections": [],
      "name": "3_training_and_analysis.ipynb",
      "provenance": [],
      "machine_shape": "hm",
      "include_colab_link": true
    },
    "interpreter": {
      "hash": "92bf126df007708fd70c442c808ee74575bedf7ea6317e0b182c3af0184af25d"
    },
    "kernelspec": {
      "display_name": "Python 3",
      "name": "python3"
    },
    "language_info": {
      "name": "python"
    },
    "accelerator": "GPU",
    "widgets": {
      "application/vnd.jupyter.widget-state+json": {
        "b358ba279ff44f1cbb70d8a7b8df1b5f": {
          "model_module": "@jupyter-widgets/controls",
          "model_name": "HBoxModel",
          "model_module_version": "1.5.0",
          "state": {
            "_view_name": "HBoxView",
            "_dom_classes": [],
            "_model_name": "HBoxModel",
            "_view_module": "@jupyter-widgets/controls",
            "_model_module_version": "1.5.0",
            "_view_count": null,
            "_view_module_version": "1.5.0",
            "box_style": "",
            "layout": "IPY_MODEL_c139d4920dec471fb7730376c161e625",
            "_model_module": "@jupyter-widgets/controls",
            "children": [
              "IPY_MODEL_eaa355307c004f74ab7ef8225547d061",
              "IPY_MODEL_90dafcfa923542aea39dccf9dedd9012",
              "IPY_MODEL_9c3c7ee3a17c46479bf08a13c9bfd9a3"
            ]
          }
        },
        "c139d4920dec471fb7730376c161e625": {
          "model_module": "@jupyter-widgets/base",
          "model_name": "LayoutModel",
          "model_module_version": "1.2.0",
          "state": {
            "_view_name": "LayoutView",
            "grid_template_rows": null,
            "right": null,
            "justify_content": null,
            "_view_module": "@jupyter-widgets/base",
            "overflow": null,
            "_model_module_version": "1.2.0",
            "_view_count": null,
            "flex_flow": null,
            "width": null,
            "min_width": null,
            "border": null,
            "align_items": null,
            "bottom": null,
            "_model_module": "@jupyter-widgets/base",
            "top": null,
            "grid_column": null,
            "overflow_y": null,
            "overflow_x": null,
            "grid_auto_flow": null,
            "grid_area": null,
            "grid_template_columns": null,
            "flex": null,
            "_model_name": "LayoutModel",
            "justify_items": null,
            "grid_row": null,
            "max_height": null,
            "align_content": null,
            "visibility": null,
            "align_self": null,
            "height": null,
            "min_height": null,
            "padding": null,
            "grid_auto_rows": null,
            "grid_gap": null,
            "max_width": null,
            "order": null,
            "_view_module_version": "1.2.0",
            "grid_template_areas": null,
            "object_position": null,
            "object_fit": null,
            "grid_auto_columns": null,
            "margin": null,
            "display": null,
            "left": null
          }
        },
        "eaa355307c004f74ab7ef8225547d061": {
          "model_module": "@jupyter-widgets/controls",
          "model_name": "HTMLModel",
          "model_module_version": "1.5.0",
          "state": {
            "_view_name": "HTMLView",
            "style": "IPY_MODEL_3ac74da2ef844014893e153dc5238d65",
            "_dom_classes": [],
            "description": "",
            "_model_name": "HTMLModel",
            "placeholder": "​",
            "_view_module": "@jupyter-widgets/controls",
            "_model_module_version": "1.5.0",
            "value": "",
            "_view_count": null,
            "_view_module_version": "1.5.0",
            "description_tooltip": null,
            "_model_module": "@jupyter-widgets/controls",
            "layout": "IPY_MODEL_b07fabedbcd24078a2e0c033212800bd"
          }
        },
        "90dafcfa923542aea39dccf9dedd9012": {
          "model_module": "@jupyter-widgets/controls",
          "model_name": "FloatProgressModel",
          "model_module_version": "1.5.0",
          "state": {
            "_view_name": "ProgressView",
            "style": "IPY_MODEL_d70bb132c0d14194a815d13212a9b915",
            "_dom_classes": [],
            "description": "",
            "_model_name": "FloatProgressModel",
            "bar_style": "success",
            "max": 50,
            "_view_module": "@jupyter-widgets/controls",
            "_model_module_version": "1.5.0",
            "value": 50,
            "_view_count": null,
            "_view_module_version": "1.5.0",
            "orientation": "horizontal",
            "min": 0,
            "description_tooltip": null,
            "_model_module": "@jupyter-widgets/controls",
            "layout": "IPY_MODEL_d45d6844b06240d6914ec4abe6bababf"
          }
        },
        "9c3c7ee3a17c46479bf08a13c9bfd9a3": {
          "model_module": "@jupyter-widgets/controls",
          "model_name": "HTMLModel",
          "model_module_version": "1.5.0",
          "state": {
            "_view_name": "HTMLView",
            "style": "IPY_MODEL_9fa0931a11a84e1eb17fb7b94df4a30c",
            "_dom_classes": [],
            "description": "",
            "_model_name": "HTMLModel",
            "placeholder": "​",
            "_view_module": "@jupyter-widgets/controls",
            "_model_module_version": "1.5.0",
            "value": " 51/? [36:48&lt;00:00, 45.15s/it]",
            "_view_count": null,
            "_view_module_version": "1.5.0",
            "description_tooltip": null,
            "_model_module": "@jupyter-widgets/controls",
            "layout": "IPY_MODEL_49edc51c1a28445c8a1aec3a9e2dd507"
          }
        },
        "3ac74da2ef844014893e153dc5238d65": {
          "model_module": "@jupyter-widgets/controls",
          "model_name": "DescriptionStyleModel",
          "model_module_version": "1.5.0",
          "state": {
            "_view_name": "StyleView",
            "_model_name": "DescriptionStyleModel",
            "description_width": "",
            "_view_module": "@jupyter-widgets/base",
            "_model_module_version": "1.5.0",
            "_view_count": null,
            "_view_module_version": "1.2.0",
            "_model_module": "@jupyter-widgets/controls"
          }
        },
        "b07fabedbcd24078a2e0c033212800bd": {
          "model_module": "@jupyter-widgets/base",
          "model_name": "LayoutModel",
          "model_module_version": "1.2.0",
          "state": {
            "_view_name": "LayoutView",
            "grid_template_rows": null,
            "right": null,
            "justify_content": null,
            "_view_module": "@jupyter-widgets/base",
            "overflow": null,
            "_model_module_version": "1.2.0",
            "_view_count": null,
            "flex_flow": null,
            "width": null,
            "min_width": null,
            "border": null,
            "align_items": null,
            "bottom": null,
            "_model_module": "@jupyter-widgets/base",
            "top": null,
            "grid_column": null,
            "overflow_y": null,
            "overflow_x": null,
            "grid_auto_flow": null,
            "grid_area": null,
            "grid_template_columns": null,
            "flex": null,
            "_model_name": "LayoutModel",
            "justify_items": null,
            "grid_row": null,
            "max_height": null,
            "align_content": null,
            "visibility": null,
            "align_self": null,
            "height": null,
            "min_height": null,
            "padding": null,
            "grid_auto_rows": null,
            "grid_gap": null,
            "max_width": null,
            "order": null,
            "_view_module_version": "1.2.0",
            "grid_template_areas": null,
            "object_position": null,
            "object_fit": null,
            "grid_auto_columns": null,
            "margin": null,
            "display": null,
            "left": null
          }
        },
        "d70bb132c0d14194a815d13212a9b915": {
          "model_module": "@jupyter-widgets/controls",
          "model_name": "ProgressStyleModel",
          "model_module_version": "1.5.0",
          "state": {
            "_view_name": "StyleView",
            "_model_name": "ProgressStyleModel",
            "description_width": "",
            "_view_module": "@jupyter-widgets/base",
            "_model_module_version": "1.5.0",
            "_view_count": null,
            "_view_module_version": "1.2.0",
            "bar_color": null,
            "_model_module": "@jupyter-widgets/controls"
          }
        },
        "d45d6844b06240d6914ec4abe6bababf": {
          "model_module": "@jupyter-widgets/base",
          "model_name": "LayoutModel",
          "model_module_version": "1.2.0",
          "state": {
            "_view_name": "LayoutView",
            "grid_template_rows": null,
            "right": null,
            "justify_content": null,
            "_view_module": "@jupyter-widgets/base",
            "overflow": null,
            "_model_module_version": "1.2.0",
            "_view_count": null,
            "flex_flow": null,
            "width": null,
            "min_width": null,
            "border": null,
            "align_items": null,
            "bottom": null,
            "_model_module": "@jupyter-widgets/base",
            "top": null,
            "grid_column": null,
            "overflow_y": null,
            "overflow_x": null,
            "grid_auto_flow": null,
            "grid_area": null,
            "grid_template_columns": null,
            "flex": null,
            "_model_name": "LayoutModel",
            "justify_items": null,
            "grid_row": null,
            "max_height": null,
            "align_content": null,
            "visibility": null,
            "align_self": null,
            "height": null,
            "min_height": null,
            "padding": null,
            "grid_auto_rows": null,
            "grid_gap": null,
            "max_width": null,
            "order": null,
            "_view_module_version": "1.2.0",
            "grid_template_areas": null,
            "object_position": null,
            "object_fit": null,
            "grid_auto_columns": null,
            "margin": null,
            "display": null,
            "left": null
          }
        },
        "9fa0931a11a84e1eb17fb7b94df4a30c": {
          "model_module": "@jupyter-widgets/controls",
          "model_name": "DescriptionStyleModel",
          "model_module_version": "1.5.0",
          "state": {
            "_view_name": "StyleView",
            "_model_name": "DescriptionStyleModel",
            "description_width": "",
            "_view_module": "@jupyter-widgets/base",
            "_model_module_version": "1.5.0",
            "_view_count": null,
            "_view_module_version": "1.2.0",
            "_model_module": "@jupyter-widgets/controls"
          }
        },
        "49edc51c1a28445c8a1aec3a9e2dd507": {
          "model_module": "@jupyter-widgets/base",
          "model_name": "LayoutModel",
          "model_module_version": "1.2.0",
          "state": {
            "_view_name": "LayoutView",
            "grid_template_rows": null,
            "right": null,
            "justify_content": null,
            "_view_module": "@jupyter-widgets/base",
            "overflow": null,
            "_model_module_version": "1.2.0",
            "_view_count": null,
            "flex_flow": null,
            "width": null,
            "min_width": null,
            "border": null,
            "align_items": null,
            "bottom": null,
            "_model_module": "@jupyter-widgets/base",
            "top": null,
            "grid_column": null,
            "overflow_y": null,
            "overflow_x": null,
            "grid_auto_flow": null,
            "grid_area": null,
            "grid_template_columns": null,
            "flex": null,
            "_model_name": "LayoutModel",
            "justify_items": null,
            "grid_row": null,
            "max_height": null,
            "align_content": null,
            "visibility": null,
            "align_self": null,
            "height": null,
            "min_height": null,
            "padding": null,
            "grid_auto_rows": null,
            "grid_gap": null,
            "max_width": null,
            "order": null,
            "_view_module_version": "1.2.0",
            "grid_template_areas": null,
            "object_position": null,
            "object_fit": null,
            "grid_auto_columns": null,
            "margin": null,
            "display": null,
            "left": null
          }
        }
      }
    }
  },
  "nbformat": 4,
  "nbformat_minor": 0
}